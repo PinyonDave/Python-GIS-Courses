{
 "cells": [
  {
   "cell_type": "code",
   "execution_count": 2,
   "metadata": {},
   "outputs": [],
   "source": [
    "ice_cream_rating = 9\n",
    "sleeping_rating = 7"
   ]
  },
  {
   "cell_type": "code",
   "execution_count": 3,
   "metadata": {},
   "outputs": [],
   "source": [
    "first_name = \"Dave\"\n",
    "last_name = \"Board\"\n",
    "my_name = first_name + \" \" + last_name"
   ]
  },
  {
   "cell_type": "code",
   "execution_count": 4,
   "metadata": {},
   "outputs": [
    {
     "name": "stdout",
     "output_type": "stream",
     "text": [
      "<class 'int'>\n",
      "<class 'int'>\n",
      "<class 'str'>\n",
      "<class 'str'>\n",
      "<class 'str'>\n"
     ]
    }
   ],
   "source": [
    "print(type(ice_cream_rating))\n",
    "print(type(sleeping_rating))\n",
    "print(type(first_name))\n",
    "print(type(last_name))\n",
    "print(type(my_name))\n"
   ]
  },
  {
   "cell_type": "code",
   "execution_count": 5,
   "metadata": {},
   "outputs": [],
   "source": [
    "happiness_rating = (ice_cream_rating + sleeping_rating)/2"
   ]
  },
  {
   "cell_type": "code",
   "execution_count": null,
   "metadata": {},
   "outputs": [
    {
     "name": "stdout",
     "output_type": "stream",
     "text": [
      "My name is Dave and I give eating ice cream a score of 9 out of 10!\n",
      "I am Dave Board and my sleeping enjoyment rating is 7 out of 10!\n",
      "Based on the factors above, my happiness rating is 8.0 out of 10!\n"
     ]
    }
   ],
   "source": [
    "text_string1 = f\"My name is {first_name} and I give eating ice cream a score of {ice_cream_rating} out of 10!\"\n",
    "text_string_2 = f\"I am {my_name} and my sleeping enjoyment rating is {sleeping_rating} out of 10!\"\n",
    "text_string3 = f\"Based on those factors, my happiness rating is {happiness_rating} out of 10!\"\n",
    "print(text_string1)\n",
    "print(text_string_2)\n",
    "print(text_string3)"
   ]
  }
 ],
 "metadata": {
  "kernelspec": {
   "display_name": "pythongis_book",
   "language": "python",
   "name": "python3"
  },
  "language_info": {
   "codemirror_mode": {
    "name": "ipython",
    "version": 3
   },
   "file_extension": ".py",
   "mimetype": "text/x-python",
   "name": "python",
   "nbconvert_exporter": "python",
   "pygments_lexer": "ipython3",
   "version": "3.11.5"
  }
 },
 "nbformat": 4,
 "nbformat_minor": 2
}
